{
 "cells": [
  {
   "cell_type": "markdown",
   "id": "abf4a2b0",
   "metadata": {
    "papermill": {
     "duration": 0.023362,
     "end_time": "2022-03-30T07:17:14.239302",
     "exception": false,
     "start_time": "2022-03-30T07:17:14.215940",
     "status": "completed"
    },
    "tags": []
   },
   "source": [
    "**This notebook is an exercise in the [Introduction to Machine Learning](https://www.kaggle.com/learn/intro-to-machine-learning) course.  You can reference the tutorial at [this link](https://www.kaggle.com/dansbecker/model-validation).**\n",
    "\n",
    "---\n"
   ]
  },
  {
   "cell_type": "markdown",
   "id": "db7c474d",
   "metadata": {
    "papermill": {
     "duration": 0.016964,
     "end_time": "2022-03-30T07:17:14.275410",
     "exception": false,
     "start_time": "2022-03-30T07:17:14.258446",
     "status": "completed"
    },
    "tags": []
   },
   "source": [
    "## Recap\n",
    "You've built a model. In this exercise you will test how good your model is.\n",
    "\n",
    "Run the cell below to set up your coding environment where the previous exercise left off."
   ]
  },
  {
   "cell_type": "code",
   "execution_count": 1,
   "id": "d726f6ba",
   "metadata": {
    "execution": {
     "iopub.execute_input": "2022-03-30T07:17:14.322052Z",
     "iopub.status.busy": "2022-03-30T07:17:14.320987Z",
     "iopub.status.idle": "2022-03-30T07:17:15.575668Z",
     "shell.execute_reply": "2022-03-30T07:17:15.576346Z",
     "shell.execute_reply.started": "2022-03-30T07:11:04.430732Z"
    },
    "papermill": {
     "duration": 1.283975,
     "end_time": "2022-03-30T07:17:15.576724",
     "exception": false,
     "start_time": "2022-03-30T07:17:14.292749",
     "status": "completed"
    },
    "tags": []
   },
   "outputs": [
    {
     "name": "stdout",
     "output_type": "stream",
     "text": [
      "First in-sample predictions: [208500. 181500. 223500. 140000. 250000.]\n",
      "Actual target values for those homes: [208500, 181500, 223500, 140000, 250000]\n",
      "Setup Complete\n"
     ]
    }
   ],
   "source": [
    "# Code you have previously used to load data\n",
    "import pandas as pd\n",
    "from sklearn.tree import DecisionTreeRegressor\n",
    "\n",
    "# Path of the file to read\n",
    "iowa_file_path = '../input/home-data-for-ml-course/train.csv'\n",
    "\n",
    "home_data = pd.read_csv(iowa_file_path)\n",
    "y = home_data.SalePrice\n",
    "feature_columns = ['LotArea', 'YearBuilt', '1stFlrSF', '2ndFlrSF', 'FullBath', 'BedroomAbvGr', 'TotRmsAbvGrd']\n",
    "X = home_data[feature_columns]\n",
    "\n",
    "# Specify Model\n",
    "iowa_model = DecisionTreeRegressor()\n",
    "# Fit Model\n",
    "iowa_model.fit(X, y)\n",
    "\n",
    "print(\"First in-sample predictions:\", iowa_model.predict(X.head()))\n",
    "print(\"Actual target values for those homes:\", y.head().tolist())\n",
    "\n",
    "# Set up code checking\n",
    "from learntools.core import binder\n",
    "binder.bind(globals())\n",
    "from learntools.machine_learning.ex4 import *\n",
    "print(\"Setup Complete\")"
   ]
  },
  {
   "cell_type": "markdown",
   "id": "63b7e235",
   "metadata": {
    "papermill": {
     "duration": 0.01784,
     "end_time": "2022-03-30T07:17:15.613402",
     "exception": false,
     "start_time": "2022-03-30T07:17:15.595562",
     "status": "completed"
    },
    "tags": []
   },
   "source": [
    "# Exercises\n",
    "\n",
    "## Step 1: Split Your Data\n",
    "Use the `train_test_split` function to split up your data.\n",
    "\n",
    "Give it the argument `random_state=1` so the `check` functions know what to expect when verifying your code.\n",
    "\n",
    "Recall, your features are loaded in the DataFrame **X** and your target is loaded in **y**.\n"
   ]
  },
  {
   "cell_type": "code",
   "execution_count": 2,
   "id": "8291448f",
   "metadata": {
    "execution": {
     "iopub.execute_input": "2022-03-30T07:17:15.677389Z",
     "iopub.status.busy": "2022-03-30T07:17:15.676226Z",
     "iopub.status.idle": "2022-03-30T07:17:15.691048Z",
     "shell.execute_reply": "2022-03-30T07:17:15.691748Z",
     "shell.execute_reply.started": "2022-03-30T07:12:51.119583Z"
    },
    "papermill": {
     "duration": 0.050347,
     "end_time": "2022-03-30T07:17:15.691995",
     "exception": false,
     "start_time": "2022-03-30T07:17:15.641648",
     "status": "completed"
    },
    "tags": []
   },
   "outputs": [
    {
     "data": {
      "application/javascript": [
       "parent.postMessage({\"jupyterEvent\": \"custom.exercise_interaction\", \"data\": {\"outcomeType\": 1, \"valueTowardsCompletion\": 0.25, \"interactionType\": 1, \"questionType\": 2, \"questionId\": \"1_SplitData\", \"learnToolsVersion\": \"0.3.4\", \"failureMessage\": \"\", \"exceptionClass\": \"\", \"trace\": \"\"}}, \"*\")"
      ],
      "text/plain": [
       "<IPython.core.display.Javascript object>"
      ]
     },
     "metadata": {},
     "output_type": "display_data"
    },
    {
     "data": {
      "text/markdown": [
       "<span style=\"color:#33cc33\">Correct</span>"
      ],
      "text/plain": [
       "Correct"
      ]
     },
     "metadata": {},
     "output_type": "display_data"
    }
   ],
   "source": [
    "# Import the train_test_split function and uncomment\n",
    "from sklearn.model_selection import train_test_split\n",
    "\n",
    "# fill in and uncomment\n",
    "train_X, val_X, train_y, val_y = train_test_split(X ,y, random_state=1)\n",
    "\n",
    "# Check your answer\n",
    "step_1.check()"
   ]
  },
  {
   "cell_type": "code",
   "execution_count": 3,
   "id": "87cbd89e",
   "metadata": {
    "execution": {
     "iopub.execute_input": "2022-03-30T07:17:15.743176Z",
     "iopub.status.busy": "2022-03-30T07:17:15.742046Z",
     "iopub.status.idle": "2022-03-30T07:17:15.745644Z",
     "shell.execute_reply": "2022-03-30T07:17:15.746246Z"
    },
    "papermill": {
     "duration": 0.031862,
     "end_time": "2022-03-30T07:17:15.746411",
     "exception": false,
     "start_time": "2022-03-30T07:17:15.714549",
     "status": "completed"
    },
    "tags": []
   },
   "outputs": [],
   "source": [
    "# The lines below will show you a hint or the solution.\n",
    "# step_1.hint() \n",
    "# step_1.solution()\n"
   ]
  },
  {
   "cell_type": "markdown",
   "id": "c0ce0c49",
   "metadata": {
    "papermill": {
     "duration": 0.019569,
     "end_time": "2022-03-30T07:17:15.786091",
     "exception": false,
     "start_time": "2022-03-30T07:17:15.766522",
     "status": "completed"
    },
    "tags": []
   },
   "source": [
    "## Step 2: Specify and Fit the Model\n",
    "\n",
    "Create a `DecisionTreeRegressor` model and fit it to the relevant data.\n",
    "Set `random_state` to 1 again when creating the model."
   ]
  },
  {
   "cell_type": "code",
   "execution_count": 4,
   "id": "59e941cb",
   "metadata": {
    "execution": {
     "iopub.execute_input": "2022-03-30T07:17:15.828392Z",
     "iopub.status.busy": "2022-03-30T07:17:15.827668Z",
     "iopub.status.idle": "2022-03-30T07:17:15.854821Z",
     "shell.execute_reply": "2022-03-30T07:17:15.855466Z",
     "shell.execute_reply.started": "2022-03-30T07:14:18.247445Z"
    },
    "papermill": {
     "duration": 0.049998,
     "end_time": "2022-03-30T07:17:15.855703",
     "exception": false,
     "start_time": "2022-03-30T07:17:15.805705",
     "status": "completed"
    },
    "tags": []
   },
   "outputs": [
    {
     "name": "stdout",
     "output_type": "stream",
     "text": [
      "[186500. 184000. 130000.  92000. 164500. 220000. 335000. 144152. 215000.\n",
      " 262000.]\n",
      "[186500. 184000. 130000.  92000. 164500. 220000. 335000. 144152. 215000.\n",
      " 262000.]\n"
     ]
    },
    {
     "data": {
      "application/javascript": [
       "parent.postMessage({\"jupyterEvent\": \"custom.exercise_interaction\", \"data\": {\"outcomeType\": 1, \"valueTowardsCompletion\": 0.25, \"interactionType\": 1, \"questionType\": 2, \"questionId\": \"2_FitModelWithTrain\", \"learnToolsVersion\": \"0.3.4\", \"failureMessage\": \"\", \"exceptionClass\": \"\", \"trace\": \"\"}}, \"*\")"
      ],
      "text/plain": [
       "<IPython.core.display.Javascript object>"
      ]
     },
     "metadata": {},
     "output_type": "display_data"
    },
    {
     "data": {
      "text/markdown": [
       "<span style=\"color:#33cc33\">Correct</span>"
      ],
      "text/plain": [
       "Correct"
      ]
     },
     "metadata": {},
     "output_type": "display_data"
    }
   ],
   "source": [
    "# You imported DecisionTreeRegressor in your last exercise\n",
    "# and that code has been copied to the setup code above. So, no need to\n",
    "# import it again\n",
    "\n",
    "# Specify the model\n",
    "iowa_model = DecisionTreeRegressor(random_state=1)\n",
    "\n",
    "# Fit iowa_model with the training data.\n",
    "iowa_model.fit(train_X, train_y)\n",
    "\n",
    "# Check your answer\n",
    "step_2.check()"
   ]
  },
  {
   "cell_type": "code",
   "execution_count": 5,
   "id": "70468cb4",
   "metadata": {
    "execution": {
     "iopub.execute_input": "2022-03-30T07:17:15.901610Z",
     "iopub.status.busy": "2022-03-30T07:17:15.900917Z",
     "iopub.status.idle": "2022-03-30T07:17:15.903897Z",
     "shell.execute_reply": "2022-03-30T07:17:15.904458Z"
    },
    "papermill": {
     "duration": 0.027556,
     "end_time": "2022-03-30T07:17:15.904628",
     "exception": false,
     "start_time": "2022-03-30T07:17:15.877072",
     "status": "completed"
    },
    "tags": []
   },
   "outputs": [],
   "source": [
    "# step_2.hint()\n",
    "# step_2.solution()"
   ]
  },
  {
   "cell_type": "markdown",
   "id": "453f8da9",
   "metadata": {
    "papermill": {
     "duration": 0.021187,
     "end_time": "2022-03-30T07:17:15.946886",
     "exception": false,
     "start_time": "2022-03-30T07:17:15.925699",
     "status": "completed"
    },
    "tags": []
   },
   "source": [
    "## Step 3: Make Predictions with Validation data\n"
   ]
  },
  {
   "cell_type": "code",
   "execution_count": 6,
   "id": "fb0fa7ab",
   "metadata": {
    "execution": {
     "iopub.execute_input": "2022-03-30T07:17:15.993712Z",
     "iopub.status.busy": "2022-03-30T07:17:15.993038Z",
     "iopub.status.idle": "2022-03-30T07:17:16.003210Z",
     "shell.execute_reply": "2022-03-30T07:17:16.003816Z",
     "shell.execute_reply.started": "2022-03-30T07:14:50.048082Z"
    },
    "papermill": {
     "duration": 0.035105,
     "end_time": "2022-03-30T07:17:16.003991",
     "exception": false,
     "start_time": "2022-03-30T07:17:15.968886",
     "status": "completed"
    },
    "tags": []
   },
   "outputs": [
    {
     "data": {
      "application/javascript": [
       "parent.postMessage({\"jupyterEvent\": \"custom.exercise_interaction\", \"data\": {\"outcomeType\": 1, \"valueTowardsCompletion\": 0.25, \"interactionType\": 1, \"questionType\": 2, \"questionId\": \"3_ValPreds\", \"learnToolsVersion\": \"0.3.4\", \"failureMessage\": \"\", \"exceptionClass\": \"\", \"trace\": \"\"}}, \"*\")"
      ],
      "text/plain": [
       "<IPython.core.display.Javascript object>"
      ]
     },
     "metadata": {},
     "output_type": "display_data"
    },
    {
     "data": {
      "text/markdown": [
       "<span style=\"color:#33cc33\">Correct</span>"
      ],
      "text/plain": [
       "Correct"
      ]
     },
     "metadata": {},
     "output_type": "display_data"
    }
   ],
   "source": [
    "# Predict with all validation observations\n",
    "val_predictions = iowa_model.predict(val_X)\n",
    "\n",
    "# Check your answer\n",
    "step_3.check()"
   ]
  },
  {
   "cell_type": "code",
   "execution_count": 7,
   "id": "10accbd5",
   "metadata": {
    "execution": {
     "iopub.execute_input": "2022-03-30T07:17:16.051859Z",
     "iopub.status.busy": "2022-03-30T07:17:16.051158Z",
     "iopub.status.idle": "2022-03-30T07:17:16.054101Z",
     "shell.execute_reply": "2022-03-30T07:17:16.054661Z"
    },
    "papermill": {
     "duration": 0.028747,
     "end_time": "2022-03-30T07:17:16.054821",
     "exception": false,
     "start_time": "2022-03-30T07:17:16.026074",
     "status": "completed"
    },
    "tags": []
   },
   "outputs": [],
   "source": [
    "# step_3.hint()\n",
    "# step_3.solution()"
   ]
  },
  {
   "cell_type": "markdown",
   "id": "7a4f1fc7",
   "metadata": {
    "papermill": {
     "duration": 0.023262,
     "end_time": "2022-03-30T07:17:16.101018",
     "exception": false,
     "start_time": "2022-03-30T07:17:16.077756",
     "status": "completed"
    },
    "tags": []
   },
   "source": [
    "Inspect your predictions and actual values from validation data."
   ]
  },
  {
   "cell_type": "code",
   "execution_count": 8,
   "id": "d1c675a7",
   "metadata": {
    "execution": {
     "iopub.execute_input": "2022-03-30T07:17:16.150182Z",
     "iopub.status.busy": "2022-03-30T07:17:16.149532Z",
     "iopub.status.idle": "2022-03-30T07:17:16.156197Z",
     "shell.execute_reply": "2022-03-30T07:17:16.156799Z",
     "shell.execute_reply.started": "2022-03-30T07:15:38.466640Z"
    },
    "papermill": {
     "duration": 0.03302,
     "end_time": "2022-03-30T07:17:16.156989",
     "exception": false,
     "start_time": "2022-03-30T07:17:16.123969",
     "status": "completed"
    },
    "tags": []
   },
   "outputs": [
    {
     "name": "stdout",
     "output_type": "stream",
     "text": [
      "[186500. 184000. 130000.  92000. 164500.]\n",
      "258     231500\n",
      "267     179500\n",
      "288     122000\n",
      "649      84500\n",
      "1233    142000\n",
      "Name: SalePrice, dtype: int64\n"
     ]
    }
   ],
   "source": [
    "# print the top few validation predictions\n",
    "print(val_predictions[0:5])\n",
    "# print the top few actual prices from validation data\n",
    "print(val_y.head())"
   ]
  },
  {
   "cell_type": "markdown",
   "id": "f7c7e4f4",
   "metadata": {
    "papermill": {
     "duration": 0.023524,
     "end_time": "2022-03-30T07:17:16.203835",
     "exception": false,
     "start_time": "2022-03-30T07:17:16.180311",
     "status": "completed"
    },
    "tags": []
   },
   "source": [
    "What do you notice that is different from what you saw with in-sample predictions (which are printed after the top code cell in this page).\n",
    "\n",
    "Do you remember why validation predictions differ from in-sample (or training) predictions? This is an important idea from the last lesson.\n",
    "\n",
    "## Step 4: Calculate the Mean Absolute Error in Validation Data\n"
   ]
  },
  {
   "cell_type": "code",
   "execution_count": 9,
   "id": "d40cfee4",
   "metadata": {
    "execution": {
     "iopub.execute_input": "2022-03-30T07:17:16.258338Z",
     "iopub.status.busy": "2022-03-30T07:17:16.257642Z",
     "iopub.status.idle": "2022-03-30T07:17:16.264872Z",
     "shell.execute_reply": "2022-03-30T07:17:16.265505Z",
     "shell.execute_reply.started": "2022-03-30T07:16:32.370300Z"
    },
    "papermill": {
     "duration": 0.038276,
     "end_time": "2022-03-30T07:17:16.265680",
     "exception": false,
     "start_time": "2022-03-30T07:17:16.227404",
     "status": "completed"
    },
    "tags": []
   },
   "outputs": [
    {
     "name": "stdout",
     "output_type": "stream",
     "text": [
      "29652.931506849316\n"
     ]
    },
    {
     "data": {
      "application/javascript": [
       "parent.postMessage({\"jupyterEvent\": \"custom.exercise_interaction\", \"data\": {\"outcomeType\": 1, \"valueTowardsCompletion\": 0.25, \"interactionType\": 1, \"questionType\": 1, \"questionId\": \"4_MAE\", \"learnToolsVersion\": \"0.3.4\", \"failureMessage\": \"\", \"exceptionClass\": \"\", \"trace\": \"\"}}, \"*\")"
      ],
      "text/plain": [
       "<IPython.core.display.Javascript object>"
      ]
     },
     "metadata": {},
     "output_type": "display_data"
    },
    {
     "data": {
      "text/markdown": [
       "<span style=\"color:#33cc33\">Correct</span>"
      ],
      "text/plain": [
       "Correct"
      ]
     },
     "metadata": {},
     "output_type": "display_data"
    }
   ],
   "source": [
    "from sklearn.metrics import mean_absolute_error\n",
    "val_mae = mean_absolute_error(val_y,val_predictions)\n",
    "\n",
    "# uncomment following line to see the validation_mae\n",
    "print(val_mae)\n",
    "\n",
    "# Check your answer\n",
    "step_4.check()"
   ]
  },
  {
   "cell_type": "code",
   "execution_count": 10,
   "id": "6dfde22e",
   "metadata": {
    "execution": {
     "iopub.execute_input": "2022-03-30T07:17:16.322184Z",
     "iopub.status.busy": "2022-03-30T07:17:16.321211Z",
     "iopub.status.idle": "2022-03-30T07:17:16.325344Z",
     "shell.execute_reply": "2022-03-30T07:17:16.325994Z"
    },
    "papermill": {
     "duration": 0.034041,
     "end_time": "2022-03-30T07:17:16.326185",
     "exception": false,
     "start_time": "2022-03-30T07:17:16.292144",
     "status": "completed"
    },
    "tags": []
   },
   "outputs": [],
   "source": [
    "# step_4.hint()\n",
    "# step_4.solution()"
   ]
  },
  {
   "cell_type": "markdown",
   "id": "2e182d7b",
   "metadata": {
    "papermill": {
     "duration": 0.026016,
     "end_time": "2022-03-30T07:17:16.379185",
     "exception": false,
     "start_time": "2022-03-30T07:17:16.353169",
     "status": "completed"
    },
    "tags": []
   },
   "source": [
    "Is that MAE good?  There isn't a general rule for what values are good that applies across applications. But you'll see how to use (and improve) this number in the next step.\n",
    "\n",
    "# Keep Going\n",
    "\n",
    "You are ready for **[Underfitting and Overfitting](https://www.kaggle.com/dansbecker/underfitting-and-overfitting).**\n"
   ]
  },
  {
   "cell_type": "markdown",
   "id": "df3d0f30",
   "metadata": {
    "papermill": {
     "duration": 0.027306,
     "end_time": "2022-03-30T07:17:16.433547",
     "exception": false,
     "start_time": "2022-03-30T07:17:16.406241",
     "status": "completed"
    },
    "tags": []
   },
   "source": [
    "---\n",
    "\n",
    "\n",
    "\n",
    "\n",
    "*Have questions or comments? Visit the [course discussion forum](https://www.kaggle.com/learn/intro-to-machine-learning/discussion) to chat with other learners.*"
   ]
  }
 ],
 "metadata": {
  "kernelspec": {
   "display_name": "Python 3",
   "language": "python",
   "name": "python3"
  },
  "language_info": {
   "codemirror_mode": {
    "name": "ipython",
    "version": 3
   },
   "file_extension": ".py",
   "mimetype": "text/x-python",
   "name": "python",
   "nbconvert_exporter": "python",
   "pygments_lexer": "ipython3",
   "version": "3.7.12"
  },
  "papermill": {
   "default_parameters": {},
   "duration": 12.394216,
   "end_time": "2022-03-30T07:17:17.069564",
   "environment_variables": {},
   "exception": null,
   "input_path": "__notebook__.ipynb",
   "output_path": "__notebook__.ipynb",
   "parameters": {},
   "start_time": "2022-03-30T07:17:04.675348",
   "version": "2.3.3"
  }
 },
 "nbformat": 4,
 "nbformat_minor": 5
}
